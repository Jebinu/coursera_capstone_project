{
    "cells": [
        {
            "cell_type": "markdown",
            "metadata": {
                "collapsed": true
            },
            "source": "# Coursera \"Applied Data Science Capstone\" Project -- Week 3 -- Part 1"
        },
        {
            "cell_type": "code",
            "execution_count": 1,
            "metadata": {},
            "outputs": [],
            "source": "from bs4 import BeautifulSoup\nimport requests\nimport pandas as pd"
        },
        {
            "cell_type": "code",
            "execution_count": 9,
            "metadata": {},
            "outputs": [
                {
                    "name": "stdout",
                    "output_type": "stream",
                    "text": "(20, 3)\n"
                },
                {
                    "data": {
                        "text/html": "<div>\n<style scoped>\n    .dataframe tbody tr th:only-of-type {\n        vertical-align: middle;\n    }\n\n    .dataframe tbody tr th {\n        vertical-align: top;\n    }\n\n    .dataframe thead th {\n        text-align: right;\n    }\n</style>\n<table border=\"1\" class=\"dataframe\">\n  <thead>\n    <tr style=\"text-align: right;\">\n      <th></th>\n      <th>PostalCode</th>\n      <th>Borough</th>\n      <th>Neighbourhood</th>\n    </tr>\n  </thead>\n  <tbody>\n    <tr>\n      <th>0</th>\n      <td>M1ANot assigned</td>\n      <td>M2ANot assigned</td>\n      <td>M3ANorth York(Parkwoods)</td>\n    </tr>\n    <tr>\n      <th>1</th>\n      <td>M1BScarborough(Malvern / Rouge)</td>\n      <td>M2BNot assigned</td>\n      <td>M3BNorth York(Don Mills)North</td>\n    </tr>\n    <tr>\n      <th>2</th>\n      <td>M1CScarborough(Rouge Hill / Port Union / Highl...</td>\n      <td>M2CNot assigned</td>\n      <td>M3CNorth York(Don Mills)South(Flemingdon Park)</td>\n    </tr>\n    <tr>\n      <th>3</th>\n      <td>M1EScarborough(Guildwood / Morningside / West ...</td>\n      <td>M2ENot assigned</td>\n      <td>M3ENot assigned</td>\n    </tr>\n    <tr>\n      <th>4</th>\n      <td>M1GScarborough(Woburn)</td>\n      <td>M2GNot assigned</td>\n      <td>M3GNot assigned</td>\n    </tr>\n  </tbody>\n</table>\n</div>",
                        "text/plain": "                                          PostalCode          Borough  \\\n0                                    M1ANot assigned  M2ANot assigned   \n1                    M1BScarborough(Malvern / Rouge)  M2BNot assigned   \n2  M1CScarborough(Rouge Hill / Port Union / Highl...  M2CNot assigned   \n3  M1EScarborough(Guildwood / Morningside / West ...  M2ENot assigned   \n4                             M1GScarborough(Woburn)  M2GNot assigned   \n\n                                    Neighbourhood  \n0                        M3ANorth York(Parkwoods)  \n1                   M3BNorth York(Don Mills)North  \n2  M3CNorth York(Don Mills)South(Flemingdon Park)  \n3                                 M3ENot assigned  \n4                                 M3GNot assigned  "
                    },
                    "execution_count": 9,
                    "metadata": {},
                    "output_type": "execute_result"
                }
            ],
            "source": "url = 'https://en.wikipedia.org/wiki/List_of_postal_codes_of_Canada:_M'\nsource = requests.get(url).text\nsoup = BeautifulSoup(source)\n\ntable_data = soup.find('div', class_='mw-parser-output')\ntable = table_data.table.tbody\n\ncolumns = ['PostalCode', 'Borough', 'Neighbourhood']\ndata = dict({key:[]*len(columns) for key in columns})\n\nfor row in table.find_all('tr'):\n    for i,column in zip(row.find_all('td'),columns):\n        i = i.text\n        i = i.replace('\\n', '')\n        data[column].append(i)\n\ndf = pd.DataFrame.from_dict(data=data)[columns]\nprint(df.shape)\ndf.head()"
        },
        {
            "cell_type": "markdown",
            "metadata": {},
            "source": " Data contains some rows where value are not assigned.<br>Dropping the row where Borough is Not assigned (only)."
        },
        {
            "cell_type": "code",
            "execution_count": 10,
            "metadata": {},
            "outputs": [
                {
                    "name": "stdout",
                    "output_type": "stream",
                    "text": "After dropping rows where borough is \"Not assigned\", Shape is:  (20, 3)\nNumber of rows where Neighbourhood is \"Not assigned\" but borough has value:  0\n"
                }
            ],
            "source": "df = df[df['Borough'] != 'Not assigned'].reset_index(drop = True)\nprint('After dropping rows where borough is \"Not assigned\", Shape is: ',df.shape)\nprint('Number of rows where Neighbourhood is \"Not assigned\" but borough has value: ', \n      df[df['Neighbourhood'] == 'Not assigned'].shape[0])"
        },
        {
            "cell_type": "code",
            "execution_count": 6,
            "metadata": {},
            "outputs": [
                {
                    "name": "stdout",
                    "output_type": "stream",
                    "text": "(20, 3)\n"
                },
                {
                    "data": {
                        "text/html": "<div>\n<style scoped>\n    .dataframe tbody tr th:only-of-type {\n        vertical-align: middle;\n    }\n\n    .dataframe tbody tr th {\n        vertical-align: top;\n    }\n\n    .dataframe thead th {\n        text-align: right;\n    }\n</style>\n<table border=\"1\" class=\"dataframe\">\n  <thead>\n    <tr style=\"text-align: right;\">\n      <th></th>\n      <th>PostalCode</th>\n      <th>Borough</th>\n      <th>Neighbourhood</th>\n    </tr>\n  </thead>\n  <tbody>\n    <tr>\n      <th>0</th>\n      <td>M1ANot assigned</td>\n      <td>M2ANot assigned</td>\n      <td>M3ANorth York(Parkwoods)</td>\n    </tr>\n    <tr>\n      <th>1</th>\n      <td>M1BScarborough(Malvern / Rouge)</td>\n      <td>M2BNot assigned</td>\n      <td>M3BNorth York(Don Mills)North</td>\n    </tr>\n    <tr>\n      <th>2</th>\n      <td>M1CScarborough(Rouge Hill / Port Union / Highl...</td>\n      <td>M2CNot assigned</td>\n      <td>M3CNorth York(Don Mills)South(Flemingdon Park)</td>\n    </tr>\n    <tr>\n      <th>3</th>\n      <td>M1EScarborough(Guildwood / Morningside / West ...</td>\n      <td>M2ENot assigned</td>\n      <td>M3ENot assigned</td>\n    </tr>\n    <tr>\n      <th>4</th>\n      <td>M1GScarborough(Woburn)</td>\n      <td>M2GNot assigned</td>\n      <td>M3GNot assigned</td>\n    </tr>\n  </tbody>\n</table>\n</div>",
                        "text/plain": "                                          PostalCode          Borough  \\\n0                                    M1ANot assigned  M2ANot assigned   \n1                    M1BScarborough(Malvern / Rouge)  M2BNot assigned   \n2  M1CScarborough(Rouge Hill / Port Union / Highl...  M2CNot assigned   \n3  M1EScarborough(Guildwood / Morningside / West ...  M2ENot assigned   \n4                             M1GScarborough(Woburn)  M2GNot assigned   \n\n                                    Neighbourhood  \n0                        M3ANorth York(Parkwoods)  \n1                   M3BNorth York(Don Mills)North  \n2  M3CNorth York(Don Mills)South(Flemingdon Park)  \n3                                 M3ENot assigned  \n4                                 M3GNot assigned  "
                    },
                    "execution_count": 6,
                    "metadata": {},
                    "output_type": "execute_result"
                }
            ],
            "source": "p, b, n = [], [], []\nfor postcode, borough, neigh in zip(df['PostalCode'], df['Borough'], df['Neighbourhood']):\n    p.append(postcode)\n    b.append(borough)\n    if neigh == 'Not assigned':\n        n.append(borough)\n    else:\n        n.append(neigh)\n\ndf = pd.DataFrame({'PostalCode': p, 'Borough': b, 'Neighbourhood':n})[columns]\nprint(df.shape)\ndf.head()"
        },
        {
            "cell_type": "code",
            "execution_count": 11,
            "metadata": {},
            "outputs": [
                {
                    "name": "stdout",
                    "output_type": "stream",
                    "text": "Number of keys in the dictionary are:  20\nShape of final data is:  (20, 3)\n"
                },
                {
                    "data": {
                        "text/html": "<div>\n<style scoped>\n    .dataframe tbody tr th:only-of-type {\n        vertical-align: middle;\n    }\n\n    .dataframe tbody tr th {\n        vertical-align: top;\n    }\n\n    .dataframe thead th {\n        text-align: right;\n    }\n</style>\n<table border=\"1\" class=\"dataframe\">\n  <thead>\n    <tr style=\"text-align: right;\">\n      <th></th>\n      <th>Postal Code</th>\n      <th>Borough</th>\n      <th>Neighbourhood</th>\n    </tr>\n  </thead>\n  <tbody>\n    <tr>\n      <th>0</th>\n      <td>M1ANot assigned</td>\n      <td>M2ANot assigned</td>\n      <td>M3ANorth York(Parkwoods)</td>\n    </tr>\n    <tr>\n      <th>1</th>\n      <td>M1BScarborough(Malvern / Rouge)</td>\n      <td>M2BNot assigned</td>\n      <td>M3BNorth York(Don Mills)North</td>\n    </tr>\n    <tr>\n      <th>2</th>\n      <td>M1CScarborough(Rouge Hill / Port Union / Highl...</td>\n      <td>M2CNot assigned</td>\n      <td>M3CNorth York(Don Mills)South(Flemingdon Park)</td>\n    </tr>\n    <tr>\n      <th>3</th>\n      <td>M1EScarborough(Guildwood / Morningside / West ...</td>\n      <td>M2ENot assigned</td>\n      <td>M3ENot assigned</td>\n    </tr>\n    <tr>\n      <th>4</th>\n      <td>M1GScarborough(Woburn)</td>\n      <td>M2GNot assigned</td>\n      <td>M3GNot assigned</td>\n    </tr>\n    <tr>\n      <th>5</th>\n      <td>M1HScarborough(Cedarbrae)</td>\n      <td>M2HNorth York(Hillcrest Village)</td>\n      <td>M3HNorth York(Bathurst Manor / Wilson Heights ...</td>\n    </tr>\n    <tr>\n      <th>6</th>\n      <td>M1JScarborough(Scarborough Village)</td>\n      <td>M2JNorth York(Fairview / Henry Farm / Oriole)</td>\n      <td>M3JNorth York(Northwood Park / York University)</td>\n    </tr>\n    <tr>\n      <th>7</th>\n      <td>M1KScarborough(Kennedy Park / Ionview / East B...</td>\n      <td>M2KNorth York(Bayview Village)</td>\n      <td>M3KNorth York(Downsview)East  (CFB Toronto)</td>\n    </tr>\n    <tr>\n      <th>8</th>\n      <td>M1LScarborough(Golden Mile / Clairlea / Oakridge)</td>\n      <td>M2LNorth York(York Mills / Silver Hills)</td>\n      <td>M3LNorth York(Downsview)West</td>\n    </tr>\n    <tr>\n      <th>9</th>\n      <td>M1MScarborough(Cliffside / Cliffcrest / Scarbo...</td>\n      <td>M2MNorth York(Willowdale / Newtonbrook)</td>\n      <td>M3MNorth York(Downsview)Central</td>\n    </tr>\n  </tbody>\n</table>\n</div>",
                        "text/plain": "                                         Postal Code  \\\n0                                    M1ANot assigned   \n1                    M1BScarborough(Malvern / Rouge)   \n2  M1CScarborough(Rouge Hill / Port Union / Highl...   \n3  M1EScarborough(Guildwood / Morningside / West ...   \n4                             M1GScarborough(Woburn)   \n5                          M1HScarborough(Cedarbrae)   \n6                M1JScarborough(Scarborough Village)   \n7  M1KScarborough(Kennedy Park / Ionview / East B...   \n8  M1LScarborough(Golden Mile / Clairlea / Oakridge)   \n9  M1MScarborough(Cliffside / Cliffcrest / Scarbo...   \n\n                                         Borough  \\\n0                                M2ANot assigned   \n1                                M2BNot assigned   \n2                                M2CNot assigned   \n3                                M2ENot assigned   \n4                                M2GNot assigned   \n5               M2HNorth York(Hillcrest Village)   \n6  M2JNorth York(Fairview / Henry Farm / Oriole)   \n7                 M2KNorth York(Bayview Village)   \n8       M2LNorth York(York Mills / Silver Hills)   \n9        M2MNorth York(Willowdale / Newtonbrook)   \n\n                                       Neighbourhood  \n0                           M3ANorth York(Parkwoods)  \n1                      M3BNorth York(Don Mills)North  \n2     M3CNorth York(Don Mills)South(Flemingdon Park)  \n3                                    M3ENot assigned  \n4                                    M3GNot assigned  \n5  M3HNorth York(Bathurst Manor / Wilson Heights ...  \n6    M3JNorth York(Northwood Park / York University)  \n7        M3KNorth York(Downsview)East  (CFB Toronto)  \n8                       M3LNorth York(Downsview)West  \n9                    M3MNorth York(Downsview)Central  "
                    },
                    "execution_count": 11,
                    "metadata": {},
                    "output_type": "execute_result"
                }
            ],
            "source": "postcodes = df['PostalCode'].values\nboroughs = df['Borough'].values\nneighs = df['Neighbourhood'].values\n\n#create a dictionary with keys as Postcode and Borough, keys of dictioaries are unique\ndic = dict({(key1,key2): [] for key1, key2 in zip(postcodes, boroughs)})\nprint('Number of keys in the dictionary are: ', len(dic.keys()))\n\n#filling the values of keys of dictionary\nfor postcode, borough, neigh in zip(postcodes,boroughs, neighs):\n    key = (postcode, borough)\n    dic[key].append(neigh)\n\ndf = pd.DataFrame(columns = ['Postal Code', 'Borough', 'Neighbourhood'])\nfor key, value in dic.items():\n    postcode, borough, neig = key[0], key[1], value\n    neig = ', '.join(neig)\n    df = df.append({'Postal Code': postcode,\n                     'Borough': borough,\n                     'Neighbourhood': neig}, ignore_index = True)\nprint('Shape of final data is: ', df.shape)\ndf.head(10)"
        },
        {
            "cell_type": "code",
            "execution_count": null,
            "metadata": {},
            "outputs": [],
            "source": ""
        }
    ],
    "metadata": {
        "kernelspec": {
            "display_name": "Python 3.7",
            "language": "python",
            "name": "python3"
        },
        "language_info": {
            "codemirror_mode": {
                "name": "ipython",
                "version": 3
            },
            "file_extension": ".py",
            "mimetype": "text/x-python",
            "name": "python",
            "nbconvert_exporter": "python",
            "pygments_lexer": "ipython3",
            "version": "3.7.10"
        }
    },
    "nbformat": 4,
    "nbformat_minor": 1
}